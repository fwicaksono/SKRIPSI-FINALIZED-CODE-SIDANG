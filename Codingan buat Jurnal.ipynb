{
 "cells": [
  {
   "cell_type": "markdown",
   "metadata": {},
   "source": [
    "# Import Library"
   ]
  },
  {
   "cell_type": "code",
   "execution_count": 6,
   "metadata": {},
   "outputs": [],
   "source": [
    "import pandas as pd\n",
    "import numpy as np\n",
    "from sklearn.preprocessing import LabelEncoder\n",
    "from sklearn.model_selection import train_test_split\n",
    "from sklearn.metrics import classification_report"
   ]
  },
  {
   "cell_type": "markdown",
   "metadata": {},
   "source": [
    "# Preprocessing"
   ]
  },
  {
   "cell_type": "code",
   "execution_count": 77,
   "metadata": {},
   "outputs": [
    {
     "name": "stdout",
     "output_type": "stream",
     "text": [
      "         mean_1  standard_deviation_1  median_1  min_value_1  max_value_1  \\\n",
      "0 -10087.594937           1095.953766  -10445.0       -14409        -7321   \n",
      "1  -8315.313791           1203.245256   -8298.0       -14163        -2830   \n",
      "2 -11952.875455           1373.377233  -11634.5       -18896        -7042   \n",
      "\n",
      "   range_1  interquartile_range_1     q1_1      q3_1  kurtosis_1  skewness_1  \\\n",
      "0     7088                1950.00 -10895.0  -8945.00   -0.844598    0.024230   \n",
      "1    11333                 771.00  -8675.0  -7904.00    6.035557   -0.319061   \n",
      "2    11854                1283.25 -12461.0 -11177.75    3.624293   -1.143653   \n",
      "\n",
      "  station_1 channel_1 class_1     mean_2  standard_deviation_2  median_2  \\\n",
      "0     MELAB       HHN  BEBENG -21.166556           3986.992718     -56.0   \n",
      "1     MELAB       HHZ  BEBENG  -9.502998           1738.396078     -36.0   \n",
      "2     MELAB       HHE  BEBENG  26.772818           3441.059767      14.0   \n",
      "\n",
      "   min_value_2  max_value_2  range_2  interquartile_range_2    q1_2    q3_2  \\\n",
      "0     -19513.0      18687.0  38200.0                 2413.0 -1202.0  1211.0   \n",
      "1     -10494.0       7978.0  18472.0                 1331.0  -702.0   629.0   \n",
      "2     -13731.0      14202.0  27933.0                 2114.0 -1019.0  1095.0   \n",
      "\n",
      "   kurtosis_2  skewness_2 station_2 channel_2 class_2  \n",
      "0    4.000728   -0.148950     MEPAS       HHN  BEBENG  \n",
      "1    4.808834   -0.082384     MEPAS       HHZ  BEBENG  \n",
      "2    3.309459    0.181159     MEPAS       HHE  BEBENG  \n"
     ]
    }
   ],
   "source": [
    "import pandas as pd\n",
    "\n",
    "# Membaca dataset\n",
    "df = pd.read_csv('merged_dataset_untuk_jurnal.csv')\n",
    "\n",
    "print(df.head(3))\n"
   ]
  },
  {
   "cell_type": "code",
   "execution_count": 62,
   "metadata": {},
   "outputs": [],
   "source": [
    "import pandas as pd\n",
    "import numpy as np\n",
    "from sklearn.model_selection import train_test_split\n",
    "from sklearn.preprocessing import LabelEncoder\n",
    "from imblearn.over_sampling import SMOTE\n",
    "\n",
    "# Assuming merged_df is your DataFrame\n",
    "# Separate features and labels\n",
    "X = df.drop(['class_1', 'class_2', 'station_1', 'station_2', 'channel_1', 'channel_2'], axis=1)\n",
    "y = df['class_1']\n",
    "\n",
    "# Label encoding for the target label\n",
    "label_encoder = LabelEncoder()\n",
    "y_encoded = label_encoder.fit_transform(y)\n",
    "\n",
    "# Split the data into training and testing sets\n",
    "X_train, X_test, y_train, y_test = train_test_split(X, y_encoded, test_size=0.4, stratify=y_encoded, random_state=42)\n",
    "\n",
    "# Apply SMOTE to the training data\n",
    "smote = SMOTE(random_state=42)\n",
    "X_train_smote, y_train_smote = smote.fit_resample(X_train, y_train)"
   ]
  },
  {
   "cell_type": "code",
   "execution_count": 63,
   "metadata": {},
   "outputs": [
    {
     "name": "stdout",
     "output_type": "stream",
     "text": [
      "========================SEBELUM SMOTE========================== \n",
      "\n",
      "Data Latih:\n",
      "BEBENG = 653 data\n",
      "BOYONG = 31 data\n",
      "GENDOL = 26 data\n",
      "\n",
      "Data Uji:\n",
      "BEBENG = 436 data\n",
      "BOYONG = 20 data\n",
      "GENDOL = 18 data\n",
      "========================SESUDAH SMOTE========================== \n",
      "\n",
      "Data Latih:\n",
      "BEBENG = 653 data\n",
      "GENDOL = 653 data\n",
      "BOYONG = 653 data\n",
      "\n",
      "Data Uji:\n",
      "BEBENG = 436 data\n",
      "BOYONG = 20 data\n",
      "GENDOL = 18 data\n"
     ]
    }
   ],
   "source": [
    "print(\"========================SEBELUM SMOTE========================== \\n\")\n",
    "\n",
    "# Mendapatkan jumlah data untuk setiap kelas dalam y_train dan y_test\n",
    "train_class_counts = pd.Series(y_train).value_counts()\n",
    "test_class_counts = pd.Series(y_test).value_counts()\n",
    "\n",
    "# Menampilkan jumlah data untuk setiap kelas\n",
    "print(\"Data Latih:\")\n",
    "for class_label, count in train_class_counts.items():\n",
    "    print(f\"{label_encoder.inverse_transform([class_label])[0]} = {count} data\")\n",
    "\n",
    "print(\"\\nData Uji:\")\n",
    "for class_label, count in test_class_counts.items():\n",
    "    print(f\"{label_encoder.inverse_transform([class_label])[0]} = {count} data\")\n",
    "    \n",
    "print(\"========================SESUDAH SMOTE========================== \\n\")\n",
    "# Mendapatkan jumlah data untuk setiap kelas dalam y_train dan y_test\n",
    "train_class_counts = pd.Series(y_train_smote).value_counts()\n",
    "test_class_counts = pd.Series(y_test).value_counts()\n",
    "\n",
    "print(\"Data Latih:\")\n",
    "for class_label, count in train_class_counts.items():\n",
    "    print(f\"{label_encoder.inverse_transform([class_label])[0]} = {count} data\")\n",
    "\n",
    "print(\"\\nData Uji:\")\n",
    "for class_label, count in test_class_counts.items():\n",
    "    print(f\"{label_encoder.inverse_transform([class_label])[0]} = {count} data\")  \n",
    "    \n"
   ]
  },
  {
   "cell_type": "code",
   "execution_count": 64,
   "metadata": {},
   "outputs": [],
   "source": [
    "class_names = df['class_1'].unique()"
   ]
  },
  {
   "cell_type": "code",
   "execution_count": 67,
   "metadata": {},
   "outputs": [
    {
     "name": "stderr",
     "output_type": "stream",
     "text": [
      "d:\\Python 3.11.8\\Lib\\site-packages\\sklearn\\model_selection\\_search.py:318: UserWarning: The total space of parameters 27 is smaller than n_iter=100. Running 27 iterations. For exhaustive searches, use GridSearchCV.\n",
      "  warnings.warn(\n"
     ]
    },
    {
     "name": "stdout",
     "output_type": "stream",
     "text": [
      "Best parameter (K): {'p': 2, 'n_neighbors': 1}\n",
      "Best cross-validation score: 0.9928519099947671\n",
      "              precision    recall  f1-score   support\n",
      "\n",
      "      BEBENG       0.99      0.98      0.98       436\n",
      "      BOYONG       0.64      0.70      0.67        20\n",
      "      GENDOL       1.00      1.00      1.00        18\n",
      "\n",
      "    accuracy                           0.97       474\n",
      "   macro avg       0.87      0.89      0.88       474\n",
      "weighted avg       0.97      0.97      0.97       474\n",
      "\n"
     ]
    }
   ],
   "source": [
    "from sklearn.model_selection import RandomizedSearchCV\n",
    "from sklearn.neighbors import KNeighborsClassifier\n",
    "\n",
    "# Inisialisasi model KNN\n",
    "knn_model = KNeighborsClassifier()\n",
    "\n",
    "# Tentukan rentang nilai K yang ingin dieksplorasi\n",
    "param_dist = {\n",
    "    'n_neighbors': range(1, 28),\n",
    "    'p' : [2]\n",
    "}\n",
    "  # Contoh: kita ingin mencoba nilai K dari 1 hingga 20\n",
    "\n",
    "# Inisialisasi objek RandomizedSearchCV\n",
    "random_search = RandomizedSearchCV(estimator=knn_model, param_distributions=param_dist, n_iter=100, cv=10, scoring='accuracy', random_state=42)\n",
    "\n",
    "# Latih model menggunakan Random Search\n",
    "random_search.fit(X_train_smote, y_train_smote)\n",
    "\n",
    "# Tampilkan hasil pencarian parameter\n",
    "print(\"Best parameter (K):\", random_search.best_params_)\n",
    "print(\"Best cross-validation score:\", random_search.best_score_)\n",
    "\n",
    "# Evaluasi model terbaik pada data uji\n",
    "best_knn_model = random_search.best_estimator_\n",
    "y_pred = best_knn_model.predict(X_test)\n",
    "\n",
    "# Tampilkan laporan klasifikasi\n",
    "print(classification_report(y_test, y_pred, target_names=class_names))\n"
   ]
  },
  {
   "cell_type": "code",
   "execution_count": 7,
   "metadata": {},
   "outputs": [
    {
     "name": "stdout",
     "output_type": "stream",
     "text": [
      "Best parameter (K): {'p': 2, 'n_neighbors': 1, 'leaf_size': 51}\n",
      "Best cross-validation score: 0.9880062344139651\n",
      "              precision    recall  f1-score   support\n",
      "\n",
      "      BEBENG       0.99      0.97      0.98        74\n",
      "      BOYONG       0.60      0.75      0.67         4\n",
      "      GENDOL       1.00      1.00      1.00         4\n",
      "\n",
      "    accuracy                           0.96        82\n",
      "   macro avg       0.86      0.91      0.88        82\n",
      "weighted avg       0.97      0.96      0.97        82\n",
      "\n"
     ]
    }
   ],
   "source": [
    "from sklearn.model_selection import RandomizedSearchCV\n",
    "from sklearn.neighbors import KNeighborsClassifier\n",
    "\n",
    "# Inisialisasi model KNN\n",
    "knn_model = KNeighborsClassifier()\n",
    "\n",
    "# Tentukan rentang nilai K yang ingin dieksplorasi\n",
    "param_dist = {\n",
    "    'n_neighbors': range(1, 28),\n",
    "    'p' : [2]\n",
    "}\n",
    "  # Contoh: kita ingin mencoba nilai K dari 1 hingga 20\n",
    "\n",
    "# Inisialisasi objek RandomizedSearchCV\n",
    "random_search = RandomizedSearchCV(estimator=knn_model, param_distributions=param_dist, n_iter=100, cv=5, scoring='accuracy', random_state=42)\n",
    "\n",
    "# Latih model menggunakan Random Search\n",
    "random_search.fit(X_train_smote, y_train_smote)\n",
    "\n",
    "# Tampilkan hasil pencarian parameter\n",
    "print(\"Best parameter (K):\", random_search.best_params_)\n",
    "print(\"Best cross-validation score:\", random_search.best_score_)\n",
    "\n",
    "# Evaluasi model terbaik pada data uji\n",
    "best_knn_model = random_search.best_estimator_\n",
    "y_pred = best_knn_model.predict(X_test)\n",
    "\n",
    "# Tampilkan laporan klasifikasi\n",
    "print(classification_report(y_test, y_pred, target_names=class_names))\n"
   ]
  },
  {
   "cell_type": "code",
   "execution_count": 8,
   "metadata": {},
   "outputs": [
    {
     "name": "stdout",
     "output_type": "stream",
     "text": [
      "Best parameter (K): {'p': 2, 'n_neighbors': 1, 'leaf_size': 51}\n",
      "Best cross-validation score: 0.9885124378109452\n",
      "              precision    recall  f1-score   support\n",
      "\n",
      "      BEBENG       0.99      0.97      0.98        74\n",
      "      BOYONG       0.60      0.75      0.67         4\n",
      "      GENDOL       1.00      1.00      1.00         4\n",
      "\n",
      "    accuracy                           0.96        82\n",
      "   macro avg       0.86      0.91      0.88        82\n",
      "weighted avg       0.97      0.96      0.97        82\n",
      "\n"
     ]
    }
   ],
   "source": [
    "from sklearn.model_selection import RandomizedSearchCV\n",
    "from sklearn.neighbors import KNeighborsClassifier\n",
    "\n",
    "# Inisialisasi model KNN\n",
    "knn_model = KNeighborsClassifier()\n",
    "\n",
    "# Tentukan rentang nilai K yang ingin dieksplorasi\n",
    "param_dist = {\n",
    "    'n_neighbors': range(1, 28),\n",
    "    'p' : [2]\n",
    "}\n",
    "  # Contoh: kita ingin mencoba nilai K dari 1 hingga 20\n",
    "\n",
    "# Inisialisasi objek RandomizedSearchCV\n",
    "random_search = RandomizedSearchCV(estimator=knn_model, param_distributions=param_dist, n_iter=100, cv=10, scoring='accuracy', random_state=42)\n",
    "\n",
    "# Latih model menggunakan Random Search\n",
    "random_search.fit(X_train_smote, y_train_smote)\n",
    "\n",
    "# Tampilkan hasil pencarian parameter\n",
    "print(\"Best parameter (K):\", random_search.best_params_)\n",
    "print(\"Best cross-validation score:\", random_search.best_score_)\n",
    "\n",
    "# Evaluasi model terbaik pada data uji\n",
    "best_knn_model = random_search.best_estimator_\n",
    "y_pred = best_knn_model.predict(X_test)\n",
    "\n",
    "# Tampilkan laporan klasifikasi\n",
    "print(classification_report(y_test, y_pred, target_names=class_names))\n"
   ]
  },
  {
   "cell_type": "code",
   "execution_count": 9,
   "metadata": {},
   "outputs": [
    {
     "name": "stdout",
     "output_type": "stream",
     "text": [
      "Model saved to model_KNN_9010.pkl\n"
     ]
    }
   ],
   "source": [
    "# Simpan model yang telah dilatih\n",
    "import joblib\n",
    "model_filename = 'model_KNN_9010.pkl'\n",
    "joblib.dump(best_knn_model, model_filename)\n",
    "print(f\"Model saved to {model_filename}\")"
   ]
  }
 ],
 "metadata": {
  "kernelspec": {
   "display_name": "Python 3",
   "language": "python",
   "name": "python3"
  },
  "language_info": {
   "codemirror_mode": {
    "name": "ipython",
    "version": 3
   },
   "file_extension": ".py",
   "mimetype": "text/x-python",
   "name": "python",
   "nbconvert_exporter": "python",
   "pygments_lexer": "ipython3",
   "version": "3.11.8"
  }
 },
 "nbformat": 4,
 "nbformat_minor": 2
}
