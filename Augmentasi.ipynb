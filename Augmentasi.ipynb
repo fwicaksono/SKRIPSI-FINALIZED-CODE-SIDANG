{
 "cells": [
  {
   "cell_type": "code",
   "execution_count": 2,
   "metadata": {},
   "outputs": [],
   "source": [
    "from obspy import read, Stream\n",
    "import numpy as np\n",
    "import random\n",
    "import os\n",
    "\n",
    "def time_shift(trace, max_shift):\n",
    "    shift_amount = random.uniform(-max_shift, max_shift)\n",
    "    return trace.copy().trim(starttime=trace.stats.starttime + shift_amount,\n",
    "                             endtime=trace.stats.endtime + shift_amount)\n",
    "\n",
    "def amplitude_scaling(trace, min_scale, max_scale):\n",
    "    scale_factor = random.uniform(min_scale, max_scale)\n",
    "    scaled_trace = trace.copy()\n",
    "    scaled_trace.data = scaled_trace.data.astype(float) * scale_factor\n",
    "    return scaled_trace\n",
    "\n",
    "def augment_data(stream, n_augmentations, max_shift_range, min_scale_range, max_scale_range):\n",
    "    augmented_streams = []\n",
    "    for i in range(n_augmentations):\n",
    "        augmented_traces = []\n",
    "        for trace in stream:\n",
    "            max_shift = random.uniform(*max_shift_range)\n",
    "            min_scale = random.uniform(*min_scale_range)\n",
    "            max_scale = random.uniform(*max_scale_range)\n",
    "            augmented_trace = time_shift(trace, max_shift)\n",
    "            augmented_trace = amplitude_scaling(augmented_trace, min_scale, max_scale)\n",
    "            augmented_traces.append(augmented_trace)\n",
    "        augmented_streams.append(augmented_traces)\n",
    "    return augmented_streams\n"
   ]
  },
  {
   "cell_type": "code",
   "execution_count": 4,
   "metadata": {},
   "outputs": [],
   "source": [
    "def calculate_parameter_ranges(stream):\n",
    "    # Calculate max shift range based on the duration of the waveform\n",
    "    total_duration = stream[-1].stats.endtime - stream[0].stats.starttime\n",
    "    max_shift_range = (0.1 * total_duration, 0.2 * total_duration)\n",
    "\n",
    "    # Calculate min and max scale ranges based on the maximum and minimum amplitudes in the waveform\n",
    "    max_amplitude = max(np.abs(trace.data).max() for trace in stream)\n",
    "    min_scale_range = (0.8, 0.9)\n",
    "    max_scale_range = (1.1, 1.2)  # You can adjust these based on your specific needs\n",
    "\n",
    "    return max_shift_range, min_scale_range, max_scale_range\n",
    "\n",
    "# Directory containing original MiniSEED files\n",
    "input_dir = \"D:\\Skripsi\\SKRIPSI-FINALIZED-CODE-SIDANG\\SKRIPSI-FINALIZED-CODE-SIDANG\\Dataset\\Dataset Model\\Testing\\GENDOL\"\n",
    "\n",
    "\n",
    "# Output directory for augmented MiniSEED files\n",
    "output_dir = \"D:\\Skripsi\\SKRIPSI-FINALIZED-CODE-SIDANG\\SKRIPSI-FINALIZED-CODE-SIDANG\\Dataset\\Dataset Model\\Testing\\GENDOL\"\n",
    "\n",
    "# Iterate over MiniSEED files in the input directory\n",
    "for filename in os.listdir(input_dir):\n",
    "    if filename.endswith(\".msd\"):\n",
    "        # Read original MiniSEED file\n",
    "        stream = read(os.path.join(input_dir, filename))\n",
    "\n",
    "        # Calculate parameter ranges based on the characteristics of the seismic data\n",
    "        max_shift_range, min_scale_range, max_scale_range = calculate_parameter_ranges(stream)\n",
    "\n",
    "        # Define augmentation parameters\n",
    "        n_augmentations = 2  # Number of augmented datasets\n",
    "\n",
    "        # Augment data and save to multiple MiniSEED files\n",
    "        for i, augmented_traces in enumerate(augment_data(stream, n_augmentations, max_shift_range, min_scale_range, max_scale_range)):\n",
    "            augmented_stream = Stream(traces=augmented_traces)\n",
    "            output_filename = f\"{os.path.splitext(filename)[0]}{i}.msd\"\n",
    "            output_path = os.path.join(output_dir, output_filename)\n",
    "            augmented_stream.write(output_path, format=\"MSEED\")"
   ]
  }
 ],
 "metadata": {
  "kernelspec": {
   "display_name": "Python 3",
   "language": "python",
   "name": "python3"
  },
  "language_info": {
   "codemirror_mode": {
    "name": "ipython",
    "version": 3
   },
   "file_extension": ".py",
   "mimetype": "text/x-python",
   "name": "python",
   "nbconvert_exporter": "python",
   "pygments_lexer": "ipython3",
   "version": "3.11.0rc2"
  }
 },
 "nbformat": 4,
 "nbformat_minor": 2
}
